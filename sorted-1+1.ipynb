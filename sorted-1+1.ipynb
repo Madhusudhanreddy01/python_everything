{
 "cells": [
  {
   "cell_type": "code",
   "execution_count": 3,
   "metadata": {},
   "outputs": [
    {
     "name": "stdout",
     "output_type": "stream",
     "text": [
      "[-1, -1, -1, -1, 1, 1, 1]\n"
     ]
    }
   ],
   "source": [
    "new=[1,-1,1,-1,-1,-1,1]\n",
    "for i in range(len(new)-1):\n",
    "    for j in range(len(new)-1): # this is for every iteration for swap numbers\n",
    "        if new[j]>new[j+1]: # if the first is greater than second number\n",
    "            temp=new[j]\n",
    "            new[j]=new[j+1]\n",
    "            new[j+1]=temp\n",
    "print(new)"
   ]
  }
 ],
 "metadata": {
  "kernelspec": {
   "display_name": "Python 3.10.7 64-bit",
   "language": "python",
   "name": "python3"
  },
  "language_info": {
   "codemirror_mode": {
    "name": "ipython",
    "version": 3
   },
   "file_extension": ".py",
   "mimetype": "text/x-python",
   "name": "python",
   "nbconvert_exporter": "python",
   "pygments_lexer": "ipython3",
   "version": "3.10.7"
  },
  "orig_nbformat": 4,
  "vscode": {
   "interpreter": {
    "hash": "d21d899e66c5fecd712306a6c9207051e7208af662108cb07adcd90836d9bebe"
   }
  }
 },
 "nbformat": 4,
 "nbformat_minor": 2
}
