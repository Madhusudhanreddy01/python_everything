{
 "cells": [
  {
   "cell_type": "code",
   "execution_count": 2,
   "id": "402c97b2",
   "metadata": {},
   "outputs": [
    {
     "name": "stdout",
     "output_type": "stream",
     "text": [
      "{'I': 1, 'am': 2, 'Madhusudhan': 11}\n"
     ]
    }
   ],
   "source": [
    "def word_(a):\n",
    "    words=a.split()\n",
    "    dict_={}\n",
    "    for i in words:\n",
    "        dict_[i]=len(i)\n",
    "    return dict_\n",
    "\n",
    "words=\"I am Madhusudhan\"\n",
    "print(word_(words))"
   ]
  },
  {
   "cell_type": "code",
   "execution_count": null,
   "id": "8fb3fb2f",
   "metadata": {},
   "outputs": [],
   "source": []
  }
 ],
 "metadata": {
  "kernelspec": {
   "display_name": "Python 3 (ipykernel)",
   "language": "python",
   "name": "python3"
  },
  "language_info": {
   "codemirror_mode": {
    "name": "ipython",
    "version": 3
   },
   "file_extension": ".py",
   "mimetype": "text/x-python",
   "name": "python",
   "nbconvert_exporter": "python",
   "pygments_lexer": "ipython3",
   "version": "3.10.9"
  }
 },
 "nbformat": 4,
 "nbformat_minor": 5
}
