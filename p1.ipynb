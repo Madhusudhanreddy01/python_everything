{
 "cells": [
  {
   "cell_type": "code",
   "execution_count": 5,
   "metadata": {},
   "outputs": [
    {
     "name": "stdout",
     "output_type": "stream",
     "text": [
      "1\n",
      "2\n",
      "3\n",
      "4\n",
      "5\n",
      "6\n",
      "stop\n"
     ]
    }
   ],
   "source": [
    "def data(arg,count=0):\n",
    "    if(len(arg)==count):\n",
    "        print(\"stop\")\n",
    "    else:\n",
    "        count+=1\n",
    "        print(count)\n",
    "        data(arg,count)\n",
    "        \n",
    "    \n",
    "data([1,2,3,4,5,6])"
   ]
  }
 ],
 "metadata": {
  "kernelspec": {
   "display_name": "Python 3.10.7 64-bit",
   "language": "python",
   "name": "python3"
  },
  "language_info": {
   "codemirror_mode": {
    "name": "ipython",
    "version": 3
   },
   "file_extension": ".py",
   "mimetype": "text/x-python",
   "name": "python",
   "nbconvert_exporter": "python",
   "pygments_lexer": "ipython3",
   "version": "3.10.7"
  },
  "orig_nbformat": 4,
  "vscode": {
   "interpreter": {
    "hash": "d21d899e66c5fecd712306a6c9207051e7208af662108cb07adcd90836d9bebe"
   }
  }
 },
 "nbformat": 4,
 "nbformat_minor": 2
}
