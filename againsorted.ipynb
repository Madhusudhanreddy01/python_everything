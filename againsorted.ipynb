{
 "cells": [
  {
   "cell_type": "code",
   "execution_count": 2,
   "metadata": {},
   "outputs": [],
   "source": [
    "def sort_arr(arr):\n",
    "    start = mid = 0\n",
    "    end = len(arr) - 1\n",
    "\n",
    "    while mid < end :\n",
    "        if arr[mid] == -1:\n",
    "            swap(arr, start, mid)\n",
    "            start += 1\n",
    "        elif arr[mid] == 1:\n",
    "            swap(arr, mid, end)\n",
    "            end -= 1\n",
    "        else:\n",
    "            mid += 1\n",
    "\n",
    "\n",
    "def swap(arr, i, j):\n",
    "    arr[i], arr[j] = arr[j], arr[i]\n",
    "\n",
    "\n",
    "def main():\n",
    "    # arr = [1, 0, -1, -1, 1, 0, 1, 0]\n",
    "    arr = [0, 1, 0, 1, -1, 0, -1, -1] * 10000000\n",
    "    #print(arr)\n",
    "    sort_arr(arr)\n",
    "    #print(arr)\n",
    "\n",
    "if __name__ == \"__main__\":\n",
    "    main()"
   ]
  }
 ],
 "metadata": {
  "kernelspec": {
   "display_name": "Python 3.10.7 64-bit",
   "language": "python",
   "name": "python3"
  },
  "language_info": {
   "codemirror_mode": {
    "name": "ipython",
    "version": 3
   },
   "file_extension": ".py",
   "mimetype": "text/x-python",
   "name": "python",
   "nbconvert_exporter": "python",
   "pygments_lexer": "ipython3",
   "version": "3.10.7"
  },
  "orig_nbformat": 4,
  "vscode": {
   "interpreter": {
    "hash": "d21d899e66c5fecd712306a6c9207051e7208af662108cb07adcd90836d9bebe"
   }
  }
 },
 "nbformat": 4,
 "nbformat_minor": 2
}
